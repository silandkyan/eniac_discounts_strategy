{
 "cells": [
  {
   "cell_type": "markdown",
   "metadata": {
    "id": "C6RCT2dF5LJw"
   },
   "source": [
    "# Data Cleaning"
   ]
  },
  {
   "cell_type": "code",
   "execution_count": 1,
   "metadata": {
    "id": "TYU9XlFrv_mE"
   },
   "outputs": [],
   "source": [
    "import pandas as pd"
   ]
  },
  {
   "cell_type": "code",
   "execution_count": 3,
   "metadata": {
    "id": "4QVboptMIJ8m"
   },
   "outputs": [],
   "source": [
    "'''get data files from LOCAL FOLDER'''\n",
    "path_orderlines = './data_original/orderlines.csv'\n",
    "path_brands     = './data_original/brands.csv'\n",
    "path_orders     = './data_original/orders.csv'\n",
    "path_products   = './data_original/products.csv'"
   ]
  },
  {
   "cell_type": "code",
   "execution_count": 4,
   "metadata": {
    "id": "ATgJ0Uu1IMoT"
   },
   "outputs": [],
   "source": [
    "# read original dfs\n",
    "orderlines_df   = pd.read_csv(path_orderlines)\n",
    "brands_df       = pd.read_csv(path_brands)\n",
    "orders_df       = pd.read_csv(path_orders)\n",
    "products_df     = pd.read_csv(path_products)\n",
    "\n",
    "#create copy dfs to work with:\n",
    "orderlines  = orderlines_df.copy()\n",
    "brands      = brands_df.copy()\n",
    "orders      = orders_df.copy()\n",
    "products    = products_df.copy()"
   ]
  },
  {
   "cell_type": "markdown",
   "metadata": {
    "id": "4GryItnQIbdE"
   },
   "source": [
    "## Remove Duplicates\n",
    "\n",
    "Check for duplicates."
   ]
  },
  {
   "cell_type": "code",
   "execution_count": 5,
   "metadata": {
    "colab": {
     "base_uri": "https://localhost:8080/"
    },
    "id": "bIfixc4zISBi",
    "outputId": "4ee0e07b-d90c-4428-d90f-45a34c4189b2"
   },
   "outputs": [
    {
     "name": "stdout",
     "output_type": "stream",
     "text": [
      "0\n",
      "0\n",
      "8746\n",
      "0\n"
     ]
    }
   ],
   "source": [
    "print(orders.duplicated().sum())\n",
    "print(orderlines.duplicated().sum())\n",
    "print(products.duplicated().sum())\n",
    "print(brands.duplicated().sum())"
   ]
  },
  {
   "cell_type": "markdown",
   "metadata": {
    "id": "NtEVwZBmI-AI"
   },
   "source": [
    "Only products contains duplicates. Remove them!"
   ]
  },
  {
   "cell_type": "code",
   "execution_count": 6,
   "metadata": {
    "colab": {
     "base_uri": "https://localhost:8080/"
    },
    "id": "DhqVpR7hIriY",
    "outputId": "bf0f9663-fd85-493b-c59f-d8628e9d555c"
   },
   "outputs": [
    {
     "data": {
      "text/plain": [
       "0"
      ]
     },
     "execution_count": 6,
     "metadata": {},
     "output_type": "execute_result"
    }
   ],
   "source": [
    "products = products.drop_duplicates()\n",
    "products.duplicated().sum()"
   ]
  },
  {
   "cell_type": "markdown",
   "metadata": {
    "id": "24Yk2kU7Jitv"
   },
   "source": [
    "## Missing values\n",
    "\n",
    "### orders"
   ]
  },
  {
   "cell_type": "code",
   "execution_count": 7,
   "metadata": {
    "colab": {
     "base_uri": "https://localhost:8080/"
    },
    "id": "HkSkiMf1J_Df",
    "outputId": "badaf385-3547-4070-9cd8-fd82e1db9e86"
   },
   "outputs": [
    {
     "data": {
      "text/plain": [
       "order_id  created_date  total_paid  state\n",
       "False     False         False       False    226904\n",
       "                        True        False         5\n",
       "Name: count, dtype: int64"
      ]
     },
     "execution_count": 7,
     "metadata": {},
     "output_type": "execute_result"
    }
   ],
   "source": [
    "orders.isna().value_counts()"
   ]
  },
  {
   "cell_type": "markdown",
   "metadata": {
    "id": "kVSaVS-6KVkC"
   },
   "source": [
    "Only total_paid contains a few missing values. Simply delete them:"
   ]
  },
  {
   "cell_type": "code",
   "execution_count": 8,
   "metadata": {
    "colab": {
     "base_uri": "https://localhost:8080/"
    },
    "id": "F-fOspKuJsz7",
    "outputId": "62569015-0588-4a67-e8df-6c809dac8d53"
   },
   "outputs": [
    {
     "data": {
      "text/plain": [
       "0"
      ]
     },
     "execution_count": 8,
     "metadata": {},
     "output_type": "execute_result"
    }
   ],
   "source": [
    "orders = orders.loc[~orders.total_paid.isna(), :]\n",
    "orders.total_paid.isna().sum()"
   ]
  },
  {
   "cell_type": "markdown",
   "metadata": {
    "id": "lbn_FtBhKm4X"
   },
   "source": [
    "### orderlines\n",
    "\n",
    "there are no missing values in orderlines:"
   ]
  },
  {
   "cell_type": "code",
   "execution_count": 9,
   "metadata": {
    "colab": {
     "base_uri": "https://localhost:8080/"
    },
    "id": "taEAKHWzK1Tv",
    "outputId": "b898efa5-15e5-4daf-ea4e-a8a98471072c"
   },
   "outputs": [
    {
     "data": {
      "text/plain": [
       "id     id_order  product_id  product_quantity  sku    unit_price  date \n",
       "False  False     False       False             False  False       False    293983\n",
       "Name: count, dtype: int64"
      ]
     },
     "execution_count": 9,
     "metadata": {},
     "output_type": "execute_result"
    }
   ],
   "source": [
    "orderlines.isna().value_counts()"
   ]
  },
  {
   "cell_type": "markdown",
   "metadata": {
    "id": "PshmxtL2K29l"
   },
   "source": [
    "### brands\n",
    "\n",
    "there are no missing values in brands:"
   ]
  },
  {
   "cell_type": "code",
   "execution_count": 10,
   "metadata": {
    "colab": {
     "base_uri": "https://localhost:8080/"
    },
    "id": "krwCXrvsK4mb",
    "outputId": "d9188f73-3e42-4865-f055-8c80a73396a9"
   },
   "outputs": [
    {
     "data": {
      "text/plain": [
       "short  long \n",
       "False  False    187\n",
       "Name: count, dtype: int64"
      ]
     },
     "execution_count": 10,
     "metadata": {},
     "output_type": "execute_result"
    }
   ],
   "source": [
    "brands.isna().value_counts()"
   ]
  },
  {
   "cell_type": "markdown",
   "metadata": {
    "id": "FOzqyVTBK5Pu"
   },
   "source": [
    "### products"
   ]
  },
  {
   "cell_type": "code",
   "execution_count": 11,
   "metadata": {
    "colab": {
     "base_uri": "https://localhost:8080/"
    },
    "id": "nQOPFMCiK7aO",
    "outputId": "98beb164-69fa-4030-abb8-106308f2baf8"
   },
   "outputs": [
    {
     "data": {
      "text/plain": [
       "sku    name   desc   price  promo_price  in_stock  type \n",
       "False  False  False  False  False        False     False    10477\n",
       "                                                   True        50\n",
       "                     True   False        False     False       46\n",
       "              True   False  False        False     False        7\n",
       "Name: count, dtype: int64"
      ]
     },
     "execution_count": 11,
     "metadata": {},
     "output_type": "execute_result"
    }
   ],
   "source": [
    "products.isna().value_counts()"
   ]
  },
  {
   "cell_type": "markdown",
   "metadata": {
    "id": "3txWkiimMZWE"
   },
   "source": [
    "desc, price and type contain nans. clean them one after the other.\n",
    "\n",
    "#### desc"
   ]
  },
  {
   "cell_type": "code",
   "execution_count": 12,
   "metadata": {
    "colab": {
     "base_uri": "https://localhost:8080/",
     "height": 512
    },
    "id": "fsoEkrbUMjgh",
    "outputId": "74211e1c-2a80-4dac-fab0-8fa5ef639715"
   },
   "outputs": [
    {
     "data": {
      "text/html": [
       "<div>\n",
       "<style scoped>\n",
       "    .dataframe tbody tr th:only-of-type {\n",
       "        vertical-align: middle;\n",
       "    }\n",
       "\n",
       "    .dataframe tbody tr th {\n",
       "        vertical-align: top;\n",
       "    }\n",
       "\n",
       "    .dataframe thead th {\n",
       "        text-align: right;\n",
       "    }\n",
       "</style>\n",
       "<table border=\"1\" class=\"dataframe\">\n",
       "  <thead>\n",
       "    <tr style=\"text-align: right;\">\n",
       "      <th></th>\n",
       "      <th>sku</th>\n",
       "      <th>name</th>\n",
       "      <th>desc</th>\n",
       "      <th>price</th>\n",
       "      <th>promo_price</th>\n",
       "      <th>in_stock</th>\n",
       "      <th>type</th>\n",
       "    </tr>\n",
       "  </thead>\n",
       "  <tbody>\n",
       "    <tr>\n",
       "      <th>16126</th>\n",
       "      <td>WDT0211-A</td>\n",
       "      <td>Open - Purple 2TB WD 35 \"PC Security Mac hard ...</td>\n",
       "      <td>NaN</td>\n",
       "      <td>107</td>\n",
       "      <td>814.659</td>\n",
       "      <td>0</td>\n",
       "      <td>1298</td>\n",
       "    </tr>\n",
       "    <tr>\n",
       "      <th>16128</th>\n",
       "      <td>APP1622-A</td>\n",
       "      <td>Open - Apple Smart Keyboard Pro Keyboard Folio...</td>\n",
       "      <td>NaN</td>\n",
       "      <td>1.568.206</td>\n",
       "      <td>1.568.206</td>\n",
       "      <td>0</td>\n",
       "      <td>1298</td>\n",
       "    </tr>\n",
       "    <tr>\n",
       "      <th>17843</th>\n",
       "      <td>PAC2334</td>\n",
       "      <td>Synology DS718 + NAS Server | 10GB RAM</td>\n",
       "      <td>NaN</td>\n",
       "      <td>566.35</td>\n",
       "      <td>5.659.896</td>\n",
       "      <td>0</td>\n",
       "      <td>12175397</td>\n",
       "    </tr>\n",
       "    <tr>\n",
       "      <th>18152</th>\n",
       "      <td>KAN0034-A</td>\n",
       "      <td>Open - Kanex USB-C Gigabit Ethernet Adapter Ma...</td>\n",
       "      <td>NaN</td>\n",
       "      <td>29.99</td>\n",
       "      <td>237.925</td>\n",
       "      <td>0</td>\n",
       "      <td>1298</td>\n",
       "    </tr>\n",
       "    <tr>\n",
       "      <th>18490</th>\n",
       "      <td>HTE0025</td>\n",
       "      <td>Hyper Pearl 1600mAh battery Mini USB Mirror an...</td>\n",
       "      <td>NaN</td>\n",
       "      <td>24.99</td>\n",
       "      <td>22.99</td>\n",
       "      <td>1</td>\n",
       "      <td>1515</td>\n",
       "    </tr>\n",
       "    <tr>\n",
       "      <th>18612</th>\n",
       "      <td>OTT0200</td>\n",
       "      <td>OtterBox External Battery Power Pack 20000 mAHr</td>\n",
       "      <td>NaN</td>\n",
       "      <td>79.99</td>\n",
       "      <td>56.99</td>\n",
       "      <td>1</td>\n",
       "      <td>1515</td>\n",
       "    </tr>\n",
       "    <tr>\n",
       "      <th>18690</th>\n",
       "      <td>HOW0001-A</td>\n",
       "      <td>Open - Honeywell thermostat Lyric zonificador ...</td>\n",
       "      <td>NaN</td>\n",
       "      <td>199.99</td>\n",
       "      <td>1.441.174</td>\n",
       "      <td>0</td>\n",
       "      <td>11905404</td>\n",
       "    </tr>\n",
       "  </tbody>\n",
       "</table>\n",
       "</div>"
      ],
      "text/plain": [
       "             sku                                               name desc  \\\n",
       "16126  WDT0211-A  Open - Purple 2TB WD 35 \"PC Security Mac hard ...  NaN   \n",
       "16128  APP1622-A  Open - Apple Smart Keyboard Pro Keyboard Folio...  NaN   \n",
       "17843    PAC2334             Synology DS718 + NAS Server | 10GB RAM  NaN   \n",
       "18152  KAN0034-A  Open - Kanex USB-C Gigabit Ethernet Adapter Ma...  NaN   \n",
       "18490    HTE0025  Hyper Pearl 1600mAh battery Mini USB Mirror an...  NaN   \n",
       "18612    OTT0200    OtterBox External Battery Power Pack 20000 mAHr  NaN   \n",
       "18690  HOW0001-A  Open - Honeywell thermostat Lyric zonificador ...  NaN   \n",
       "\n",
       "           price promo_price  in_stock      type  \n",
       "16126        107     814.659         0      1298  \n",
       "16128  1.568.206   1.568.206         0      1298  \n",
       "17843     566.35   5.659.896         0  12175397  \n",
       "18152      29.99     237.925         0      1298  \n",
       "18490      24.99       22.99         1      1515  \n",
       "18612      79.99       56.99         1      1515  \n",
       "18690     199.99   1.441.174         0  11905404  "
      ]
     },
     "execution_count": 12,
     "metadata": {},
     "output_type": "execute_result"
    }
   ],
   "source": [
    "products.loc[products.desc.isna()]"
   ]
  },
  {
   "cell_type": "markdown",
   "metadata": {
    "id": "MBpvv-gnM7jD"
   },
   "source": [
    "Simply impute product.name to the missing entries in desc:"
   ]
  },
  {
   "cell_type": "code",
   "execution_count": 13,
   "metadata": {
    "id": "IaY2NexkNCbU"
   },
   "outputs": [],
   "source": [
    "products.loc[products['desc'].isna(), 'desc'] = products.loc[products['desc'].isna(), 'name']"
   ]
  },
  {
   "cell_type": "markdown",
   "metadata": {
    "id": "PYpVyTHVNvJ5"
   },
   "source": [
    "#### price\n",
    "\n",
    "Delete the rows with missing values in price:"
   ]
  },
  {
   "cell_type": "code",
   "execution_count": 14,
   "metadata": {
    "id": "hTeQnVbNL7Wv"
   },
   "outputs": [],
   "source": [
    "products = products.dropna(subset=['price'])"
   ]
  },
  {
   "cell_type": "markdown",
   "metadata": {
    "id": "fkLbI6IXOPWW"
   },
   "source": [
    "#### type\n",
    "\n",
    "It is unknown what the type column means, so we delete the entire column:\n",
    "\n",
    "**NO! might be needed later!**"
   ]
  },
  {
   "cell_type": "code",
   "execution_count": 15,
   "metadata": {
    "id": "6-rGFPkNOOby"
   },
   "outputs": [],
   "source": [
    "#products = products.drop(['type'], axis=1)"
   ]
  },
  {
   "cell_type": "markdown",
   "metadata": {
    "id": "j9IZeJqKLvtP"
   },
   "source": [
    "## Datatypes"
   ]
  },
  {
   "cell_type": "markdown",
   "metadata": {
    "id": "TSTM87QdO6la"
   },
   "source": [
    "### orders"
   ]
  },
  {
   "cell_type": "code",
   "execution_count": 16,
   "metadata": {
    "colab": {
     "base_uri": "https://localhost:8080/"
    },
    "id": "qNUv-EiHO84r",
    "outputId": "6d4c3bf7-1fe7-4d07-99a3-dcace3430831"
   },
   "outputs": [
    {
     "name": "stdout",
     "output_type": "stream",
     "text": [
      "<class 'pandas.core.frame.DataFrame'>\n",
      "Index: 226904 entries, 0 to 226908\n",
      "Data columns (total 4 columns):\n",
      " #   Column        Non-Null Count   Dtype  \n",
      "---  ------        --------------   -----  \n",
      " 0   order_id      226904 non-null  int64  \n",
      " 1   created_date  226904 non-null  object \n",
      " 2   total_paid    226904 non-null  float64\n",
      " 3   state         226904 non-null  object \n",
      "dtypes: float64(1), int64(1), object(2)\n",
      "memory usage: 8.7+ MB\n"
     ]
    }
   ],
   "source": [
    "orders.info()"
   ]
  },
  {
   "cell_type": "markdown",
   "metadata": {
    "id": "bYyk1CL4PNH3"
   },
   "source": [
    "created_date should be datetime:"
   ]
  },
  {
   "cell_type": "code",
   "execution_count": 17,
   "metadata": {
    "id": "WGVhaq7oPQlC"
   },
   "outputs": [],
   "source": [
    "orders[\"created_date\"] = pd.to_datetime(orders[\"created_date\"])"
   ]
  },
  {
   "cell_type": "markdown",
   "metadata": {
    "id": "B-fsftK4O9i8"
   },
   "source": [
    "### orderlines"
   ]
  },
  {
   "cell_type": "code",
   "execution_count": 18,
   "metadata": {
    "colab": {
     "base_uri": "https://localhost:8080/"
    },
    "id": "JxXmg3zmO_7N",
    "outputId": "3bae8932-8f86-4568-994f-943b6e5649aa"
   },
   "outputs": [
    {
     "name": "stdout",
     "output_type": "stream",
     "text": [
      "<class 'pandas.core.frame.DataFrame'>\n",
      "RangeIndex: 293983 entries, 0 to 293982\n",
      "Data columns (total 7 columns):\n",
      " #   Column            Non-Null Count   Dtype \n",
      "---  ------            --------------   ----- \n",
      " 0   id                293983 non-null  int64 \n",
      " 1   id_order          293983 non-null  int64 \n",
      " 2   product_id        293983 non-null  int64 \n",
      " 3   product_quantity  293983 non-null  int64 \n",
      " 4   sku               293983 non-null  object\n",
      " 5   unit_price        293983 non-null  object\n",
      " 6   date              293983 non-null  object\n",
      "dtypes: int64(4), object(3)\n",
      "memory usage: 15.7+ MB\n"
     ]
    }
   ],
   "source": [
    "orderlines.info()"
   ]
  },
  {
   "cell_type": "markdown",
   "metadata": {
    "id": "pq5k0bpCPePV"
   },
   "source": [
    "date should be a datetime datatype:\n"
   ]
  },
  {
   "cell_type": "code",
   "execution_count": 19,
   "metadata": {
    "colab": {
     "base_uri": "https://localhost:8080/"
    },
    "id": "qxMIGZ2IPgdc",
    "outputId": "16c495e0-63e6-4431-e755-33b0c2b43e06"
   },
   "outputs": [
    {
     "name": "stdout",
     "output_type": "stream",
     "text": [
      "<class 'pandas.core.frame.DataFrame'>\n",
      "RangeIndex: 293983 entries, 0 to 293982\n",
      "Data columns (total 7 columns):\n",
      " #   Column            Non-Null Count   Dtype         \n",
      "---  ------            --------------   -----         \n",
      " 0   id                293983 non-null  int64         \n",
      " 1   id_order          293983 non-null  int64         \n",
      " 2   product_id        293983 non-null  int64         \n",
      " 3   product_quantity  293983 non-null  int64         \n",
      " 4   sku               293983 non-null  object        \n",
      " 5   unit_price        293983 non-null  object        \n",
      " 6   date              293983 non-null  datetime64[ns]\n",
      "dtypes: datetime64[ns](1), int64(4), object(2)\n",
      "memory usage: 15.7+ MB\n"
     ]
    }
   ],
   "source": [
    "orderlines[\"date\"] = pd.to_datetime(orderlines[\"date\"])\n",
    "orderlines.info()"
   ]
  },
  {
   "cell_type": "markdown",
   "metadata": {
    "id": "93TjPwMHPoji"
   },
   "source": [
    "unit_price should be a float datatype. it also contains strange numbers that need to be fixed before conversion."
   ]
  },
  {
   "cell_type": "code",
   "execution_count": 20,
   "metadata": {
    "colab": {
     "base_uri": "https://localhost:8080/"
    },
    "id": "N2KDjt-jQDLt",
    "outputId": "327884ca-14b0-4640-9332-a4565be5c9b3"
   },
   "outputs": [
    {
     "data": {
      "text/plain": [
       "unit_price\n",
       "False    257814\n",
       "True      36169\n",
       "Name: count, dtype: int64"
      ]
     },
     "execution_count": 20,
     "metadata": {},
     "output_type": "execute_result"
    }
   ],
   "source": [
    "orderlines.unit_price.str.contains(\"\\d+\\.\\d+\\.\\d+\").value_counts()"
   ]
  },
  {
   "cell_type": "markdown",
   "metadata": {
    "id": "LHlCouguQmuc"
   },
   "source": [
    "Either delete all corrupted rows, or try to fix it:"
   ]
  },
  {
   "cell_type": "code",
   "execution_count": 21,
   "metadata": {
    "id": "UdpJHmMZQsso"
   },
   "outputs": [],
   "source": [
    "# delete corrupted rows:\n",
    "two_dot_order_ids_list = orderlines.loc[orderlines.unit_price.str.contains(\"\\d+\\.\\d+\\.\\d+\"), \"id_order\"]\n",
    "orderlines = orderlines.loc[~orderlines.id_order.isin(two_dot_order_ids_list)]"
   ]
  },
  {
   "cell_type": "code",
   "execution_count": 22,
   "metadata": {
    "id": "o1Rtuls1PyXh"
   },
   "outputs": [],
   "source": [
    "# fix A\n",
    "#orderlines['unit_price_fixed'] = pd.to_numeric(orderlines['unit_price'].str.replace('.', ''))/100"
   ]
  },
  {
   "cell_type": "code",
   "execution_count": 23,
   "metadata": {
    "id": "uCsAVK9DQ8cf"
   },
   "outputs": [],
   "source": [
    "# fix B\n",
    "#..."
   ]
  },
  {
   "cell_type": "code",
   "execution_count": 24,
   "metadata": {
    "id": "jBUJRqXwRDuL"
   },
   "outputs": [],
   "source": [
    "orderlines[\"unit_price\"] = pd.to_numeric(orderlines[\"unit_price\"])"
   ]
  },
  {
   "cell_type": "markdown",
   "metadata": {
    "id": "l0stm_diPAhQ"
   },
   "source": [
    "### brands"
   ]
  },
  {
   "cell_type": "markdown",
   "metadata": {
    "id": "UkzdfgDaT3SI"
   },
   "source": [
    "brands datatypes are correct."
   ]
  },
  {
   "cell_type": "code",
   "execution_count": 25,
   "metadata": {
    "colab": {
     "base_uri": "https://localhost:8080/"
    },
    "id": "L16wIseePCtu",
    "outputId": "d1a2f36c-5e4e-492c-d5d8-376351364e6e"
   },
   "outputs": [
    {
     "name": "stdout",
     "output_type": "stream",
     "text": [
      "<class 'pandas.core.frame.DataFrame'>\n",
      "RangeIndex: 187 entries, 0 to 186\n",
      "Data columns (total 2 columns):\n",
      " #   Column  Non-Null Count  Dtype \n",
      "---  ------  --------------  ----- \n",
      " 0   short   187 non-null    object\n",
      " 1   long    187 non-null    object\n",
      "dtypes: object(2)\n",
      "memory usage: 3.1+ KB\n"
     ]
    }
   ],
   "source": [
    "brands.info()"
   ]
  },
  {
   "cell_type": "markdown",
   "metadata": {
    "id": "ygJqxCEEPDUl"
   },
   "source": [
    "### products"
   ]
  },
  {
   "cell_type": "code",
   "execution_count": 26,
   "metadata": {
    "colab": {
     "base_uri": "https://localhost:8080/",
     "height": 175
    },
    "id": "sfJkayjEPE4L",
    "outputId": "1ce75223-7f98-47f8-8950-42c36e876aa5"
   },
   "outputs": [
    {
     "name": "stdout",
     "output_type": "stream",
     "text": [
      "<class 'pandas.core.frame.DataFrame'>\n",
      "Index: 10534 entries, 0 to 19325\n",
      "Data columns (total 7 columns):\n",
      " #   Column       Non-Null Count  Dtype \n",
      "---  ------       --------------  ----- \n",
      " 0   sku          10534 non-null  object\n",
      " 1   name         10534 non-null  object\n",
      " 2   desc         10534 non-null  object\n",
      " 3   price        10534 non-null  object\n",
      " 4   promo_price  10534 non-null  object\n",
      " 5   in_stock     10534 non-null  int64 \n",
      " 6   type         10484 non-null  object\n",
      "dtypes: int64(1), object(6)\n",
      "memory usage: 658.4+ KB\n"
     ]
    }
   ],
   "source": [
    "products.info()"
   ]
  },
  {
   "cell_type": "markdown",
   "metadata": {
    "id": "_pgSMtxGWRPM"
   },
   "source": [
    "The price column contains corrupted data, like more than one dot within the price values. We can either try to fix that problem or simply delete all affected rows."
   ]
  },
  {
   "cell_type": "code",
   "execution_count": 27,
   "metadata": {
    "id": "VZYgQPqzdGEe"
   },
   "outputs": [],
   "source": [
    "# delete corrupted rows:\n",
    "products = products.loc[\n",
    "    (~products.price.astype(str).str.contains(\"\\d+\\.\\d+\\.\\d+\")) # look for two dots\n",
    "    & (~products.price.astype(str).str.contains(\"\\d+\\.\\d{3,}\")) # look for more than 2 decimals\n",
    "    , :]"
   ]
  },
  {
   "cell_type": "code",
   "execution_count": 28,
   "metadata": {
    "id": "nWM5FFwpX_tx"
   },
   "outputs": [],
   "source": [
    "# fix:\n",
    "#..."
   ]
  },
  {
   "cell_type": "code",
   "execution_count": 29,
   "metadata": {
    "colab": {
     "base_uri": "https://localhost:8080/"
    },
    "id": "6C25tHpcjfCW",
    "outputId": "3b769ddd-d74a-4b17-b240-f311bd51a9aa"
   },
   "outputs": [],
   "source": [
    "# Convert price column from object to float datatype\n",
    "products[\"price\"] = pd.to_numeric(products[\"price\"])"
   ]
  },
  {
   "cell_type": "markdown",
   "metadata": {
    "id": "EqoiKxASXqq3"
   },
   "source": [
    "The promo_price column is totally messy, best is to delete it altogether:"
   ]
  },
  {
   "cell_type": "code",
   "execution_count": 30,
   "metadata": {
    "id": "V9iOQ8Ljjq5k"
   },
   "outputs": [],
   "source": [
    "# remove promo price column\n",
    "products = products.drop(columns=[\"promo_price\"])"
   ]
  },
  {
   "cell_type": "markdown",
   "metadata": {
    "id": "L-GfwivbYuZ6"
   },
   "source": [
    "Products looks good now:"
   ]
  },
  {
   "cell_type": "code",
   "execution_count": 31,
   "metadata": {
    "colab": {
     "base_uri": "https://localhost:8080/"
    },
    "id": "vEGpkvCWYx5D",
    "outputId": "a0ef16dd-cec7-4ea5-c06e-cd0de5b0d84a"
   },
   "outputs": [
    {
     "name": "stdout",
     "output_type": "stream",
     "text": [
      "<class 'pandas.core.frame.DataFrame'>\n",
      "Index: 9992 entries, 0 to 19325\n",
      "Data columns (total 6 columns):\n",
      " #   Column    Non-Null Count  Dtype  \n",
      "---  ------    --------------  -----  \n",
      " 0   sku       9992 non-null   object \n",
      " 1   name      9992 non-null   object \n",
      " 2   desc      9992 non-null   object \n",
      " 3   price     9992 non-null   float64\n",
      " 4   in_stock  9992 non-null   int64  \n",
      " 5   type      9946 non-null   object \n",
      "dtypes: float64(1), int64(1), object(4)\n",
      "memory usage: 546.4+ KB\n"
     ]
    }
   ],
   "source": [
    "products.info()"
   ]
  },
  {
   "cell_type": "code",
   "execution_count": 32,
   "metadata": {
    "colab": {
     "base_uri": "https://localhost:8080/",
     "height": 300
    },
    "id": "r1kE3i2VZpv_",
    "outputId": "23b5f67a-ae7b-4aef-a9e6-daa6097689bb"
   },
   "outputs": [
    {
     "data": {
      "text/html": [
       "<div>\n",
       "<style scoped>\n",
       "    .dataframe tbody tr th:only-of-type {\n",
       "        vertical-align: middle;\n",
       "    }\n",
       "\n",
       "    .dataframe tbody tr th {\n",
       "        vertical-align: top;\n",
       "    }\n",
       "\n",
       "    .dataframe thead th {\n",
       "        text-align: right;\n",
       "    }\n",
       "</style>\n",
       "<table border=\"1\" class=\"dataframe\">\n",
       "  <thead>\n",
       "    <tr style=\"text-align: right;\">\n",
       "      <th></th>\n",
       "      <th>price</th>\n",
       "      <th>in_stock</th>\n",
       "    </tr>\n",
       "  </thead>\n",
       "  <tbody>\n",
       "    <tr>\n",
       "      <th>count</th>\n",
       "      <td>9992.000000</td>\n",
       "      <td>9992.000000</td>\n",
       "    </tr>\n",
       "    <tr>\n",
       "      <th>mean</th>\n",
       "      <td>667.346268</td>\n",
       "      <td>0.199359</td>\n",
       "    </tr>\n",
       "    <tr>\n",
       "      <th>std</th>\n",
       "      <td>1365.540546</td>\n",
       "      <td>0.399539</td>\n",
       "    </tr>\n",
       "    <tr>\n",
       "      <th>min</th>\n",
       "      <td>2.990000</td>\n",
       "      <td>0.000000</td>\n",
       "    </tr>\n",
       "    <tr>\n",
       "      <th>25%</th>\n",
       "      <td>42.990000</td>\n",
       "      <td>0.000000</td>\n",
       "    </tr>\n",
       "    <tr>\n",
       "      <th>50%</th>\n",
       "      <td>112.990000</td>\n",
       "      <td>0.000000</td>\n",
       "    </tr>\n",
       "    <tr>\n",
       "      <th>75%</th>\n",
       "      <td>660.695000</td>\n",
       "      <td>0.000000</td>\n",
       "    </tr>\n",
       "    <tr>\n",
       "      <th>max</th>\n",
       "      <td>15339.000000</td>\n",
       "      <td>1.000000</td>\n",
       "    </tr>\n",
       "  </tbody>\n",
       "</table>\n",
       "</div>"
      ],
      "text/plain": [
       "              price     in_stock\n",
       "count   9992.000000  9992.000000\n",
       "mean     667.346268     0.199359\n",
       "std     1365.540546     0.399539\n",
       "min        2.990000     0.000000\n",
       "25%       42.990000     0.000000\n",
       "50%      112.990000     0.000000\n",
       "75%      660.695000     0.000000\n",
       "max    15339.000000     1.000000"
      ]
     },
     "execution_count": 32,
     "metadata": {},
     "output_type": "execute_result"
    }
   ],
   "source": [
    "products.describe()"
   ]
  },
  {
   "cell_type": "markdown",
   "metadata": {
    "id": "NzoCcOlLY9p3"
   },
   "source": [
    " All the data tables have been cleaned. Proceed to do some cross-validation in order to get rid of inconsistencies and to improve the overall quality of the data."
   ]
  },
  {
   "cell_type": "markdown",
   "metadata": {
    "id": "bOLJtmwR5Pz8"
   },
   "source": [
    "# Data Quality Checks and Improvement"
   ]
  },
  {
   "cell_type": "markdown",
   "metadata": {
    "id": "yPOD69w8fJBZ"
   },
   "source": [
    "## Exclude unwanted orders"
   ]
  },
  {
   "cell_type": "code",
   "execution_count": 33,
   "metadata": {
    "colab": {
     "base_uri": "https://localhost:8080/"
    },
    "id": "ntjv-Hj85U-7",
    "outputId": "567f5f50-b4e4-4048-f24b-6add202aadb2"
   },
   "outputs": [
    {
     "data": {
      "text/plain": [
       "state\n",
       "Shopping Basket    117809\n",
       "Completed           46605\n",
       "Place Order         40883\n",
       "Pending             14374\n",
       "Cancelled            7233\n",
       "Name: count, dtype: int64"
      ]
     },
     "execution_count": 33,
     "metadata": {},
     "output_type": "execute_result"
    }
   ],
   "source": [
    "orders.state.value_counts()"
   ]
  },
  {
   "cell_type": "markdown",
   "metadata": {
    "id": "opW0VE9wbUX5"
   },
   "source": [
    "Meaning of orders.state values:\n",
    "\n",
    "“Shopping basket” – products have been placed in the shopping basket\n",
    "\n",
    "“Place Order” – the order has been placed, but is awaiting shipment details\n",
    "\n",
    "“Pending” – the order is awaiting payment confirmation\n",
    "\n",
    "“Completed” – the order has been placed and paid, and the transaction is completed.\n",
    "\n",
    "“Cancelled” – the order has been cancelled and the payment returned to the customer.\n",
    "\n",
    "Not all of those are needed for the analysis and therefore should be excluded now:"
   ]
  },
  {
   "cell_type": "code",
   "execution_count": 34,
   "metadata": {
    "id": "v9X-v3lxbbWQ"
   },
   "outputs": [],
   "source": [
    "# uncomment states to keep\n",
    "orders_to_keep = [\n",
    "                  #'Shopping Basket',\n",
    "                  #'Place Order',\n",
    "                  #'Pending',\n",
    "                  'Completed']"
   ]
  },
  {
   "cell_type": "code",
   "execution_count": 35,
   "metadata": {
    "id": "fZTmz3u_dE8V"
   },
   "outputs": [],
   "source": [
    "orders = orders.loc[orders.state.isin(orders_to_keep)]"
   ]
  },
  {
   "cell_type": "markdown",
   "metadata": {
    "id": "7Mh9JZqYfSY8"
   },
   "source": [
    "## Keep only orders present in both orders and orderlines"
   ]
  },
  {
   "cell_type": "markdown",
   "metadata": {
    "id": "AophqNZph3Hy"
   },
   "source": [
    "Keep only rows with orderlines.id_order present in orders.order_id:"
   ]
  },
  {
   "cell_type": "code",
   "execution_count": 36,
   "metadata": {
    "id": "ng4-uyG1eq6i"
   },
   "outputs": [],
   "source": [
    "orderlines = orderlines.loc[orderlines.id_order\n",
    "                            .isin(orders.order_id.unique())]"
   ]
  },
  {
   "cell_type": "markdown",
   "metadata": {
    "id": "GrYj7ITwh3gb"
   },
   "source": [
    "Keep only rows with orders.order_id present in orderlines.id_order:"
   ]
  },
  {
   "cell_type": "code",
   "execution_count": 37,
   "metadata": {
    "id": "DeffZYzqfCkv"
   },
   "outputs": [],
   "source": [
    "orders = orders.loc[orders.order_id.isin(orderlines.id_order.unique())]"
   ]
  },
  {
   "cell_type": "markdown",
   "metadata": {
    "id": "vS-sRCyaixaw"
   },
   "source": [
    "Now both tables have an identical number of unique ids:"
   ]
  },
  {
   "cell_type": "code",
   "execution_count": 38,
   "metadata": {
    "colab": {
     "base_uri": "https://localhost:8080/"
    },
    "id": "RfcFdq7BirKs",
    "outputId": "49e8bdb5-cdf9-41cd-90ea-286761efb8de"
   },
   "outputs": [
    {
     "name": "stdout",
     "output_type": "stream",
     "text": [
      "43064\n",
      "43064\n"
     ]
    }
   ],
   "source": [
    "print(orders.order_id.nunique())\n",
    "print(orderlines.id_order.nunique())"
   ]
  },
  {
   "cell_type": "markdown",
   "metadata": {
    "id": "PcKD_qWXjPBd"
   },
   "source": [
    "## Exclude orders with unknown products"
   ]
  },
  {
   "cell_type": "code",
   "execution_count": 39,
   "metadata": {
    "colab": {
     "base_uri": "https://localhost:8080/"
    },
    "id": "2DoJvindiZeD",
    "outputId": "3adfd542-ce7c-43eb-eacb-373e0e7b2a06"
   },
   "outputs": [
    {
     "data": {
      "text/plain": [
       "sku\n",
       "True     55320\n",
       "False     1394\n",
       "Name: count, dtype: int64"
      ]
     },
     "execution_count": 39,
     "metadata": {},
     "output_type": "execute_result"
    }
   ],
   "source": [
    "orderlines.sku.isin(products.sku.unique()).value_counts()"
   ]
  },
  {
   "cell_type": "markdown",
   "metadata": {
    "id": "Ap5IAWv5kAu-"
   },
   "source": [
    "Above shows that some sku numbers in orderlines don't appear in products. This means that these products are unknown and should be removed.\n",
    "\n",
    "First create a list with unknown products:"
   ]
  },
  {
   "cell_type": "code",
   "execution_count": 40,
   "metadata": {
    "id": "9FFBaPtoj8oB"
   },
   "outputs": [],
   "source": [
    "ids_unknown_products = orderlines[~orderlines.sku.isin(products.sku.unique())]['id_order']"
   ]
  },
  {
   "cell_type": "markdown",
   "metadata": {
    "id": "f0MvF-ZImlXS"
   },
   "source": [
    "Then exclude rows involving unknown products from orders and orderlines:"
   ]
  },
  {
   "cell_type": "code",
   "execution_count": 41,
   "metadata": {
    "id": "ONGN8STbl4K_"
   },
   "outputs": [],
   "source": [
    "orders = orders[~orders.order_id.isin(ids_unknown_products)]\n",
    "orderlines = orderlines[~orderlines.id_order.isin(ids_unknown_products)]"
   ]
  },
  {
   "cell_type": "code",
   "execution_count": 42,
   "metadata": {
    "id": "cev_zmnLmH2f"
   },
   "outputs": [],
   "source": [
    "# Consistency checks\n",
    "\n",
    "# order_id is not in id_order: should be empty\n",
    "#orders[~orders.order_id.isin(orderlines.id_order.unique())]\n",
    "\n",
    "# id_order is not in order_id: should be empty\n",
    "#orderlines[~orderlines.id_order.isin(orders.order_id.unique())]"
   ]
  },
  {
   "cell_type": "code",
   "execution_count": 43,
   "metadata": {
    "colab": {
     "base_uri": "https://localhost:8080/"
    },
    "id": "QnAvxrUTmcoX",
    "outputId": "24d8fd26-ffc2-4649-ce8c-5480fa53b7d3"
   },
   "outputs": [
    {
     "name": "stdout",
     "output_type": "stream",
     "text": [
      "41701\n",
      "41701\n"
     ]
    }
   ],
   "source": [
    "print(orders.order_id.nunique())\n",
    "print(orderlines.id_order.nunique())"
   ]
  },
  {
   "cell_type": "markdown",
   "metadata": {
    "id": "UhVvWoxKnZUt"
   },
   "source": [
    "Looks good!"
   ]
  },
  {
   "cell_type": "markdown",
   "metadata": {
    "id": "hqJWnhZCnjK9"
   },
   "source": [
    "## Compare the revenue from different tables\n",
    "\n",
    "### Step 1: Add unit_price_total column to orderlines"
   ]
  },
  {
   "cell_type": "code",
   "execution_count": 44,
   "metadata": {
    "colab": {
     "base_uri": "https://localhost:8080/"
    },
    "id": "0fR8eM33nizH",
    "outputId": "00b13db3-6620-4fcc-d3db-fb11179f6307"
   },
   "outputs": [],
   "source": [
    "orderlines['unit_price_total'] = orderlines.product_quantity * orderlines.unit_price"
   ]
  },
  {
   "cell_type": "code",
   "execution_count": 45,
   "metadata": {
    "colab": {
     "base_uri": "https://localhost:8080/",
     "height": 313
    },
    "id": "gGm8nC_Gm6dX",
    "outputId": "bfa697c0-1a6f-44a4-ef9e-16ffcabe95e6"
   },
   "outputs": [
    {
     "data": {
      "text/html": [
       "<div>\n",
       "<style scoped>\n",
       "    .dataframe tbody tr th:only-of-type {\n",
       "        vertical-align: middle;\n",
       "    }\n",
       "\n",
       "    .dataframe tbody tr th {\n",
       "        vertical-align: top;\n",
       "    }\n",
       "\n",
       "    .dataframe thead th {\n",
       "        text-align: right;\n",
       "    }\n",
       "</style>\n",
       "<table border=\"1\" class=\"dataframe\">\n",
       "  <thead>\n",
       "    <tr style=\"text-align: right;\">\n",
       "      <th></th>\n",
       "      <th>id</th>\n",
       "      <th>id_order</th>\n",
       "      <th>product_id</th>\n",
       "      <th>product_quantity</th>\n",
       "      <th>sku</th>\n",
       "      <th>unit_price</th>\n",
       "      <th>date</th>\n",
       "      <th>unit_price_total</th>\n",
       "    </tr>\n",
       "  </thead>\n",
       "  <tbody>\n",
       "    <tr>\n",
       "      <th>7</th>\n",
       "      <td>1119116</td>\n",
       "      <td>299545</td>\n",
       "      <td>0</td>\n",
       "      <td>1</td>\n",
       "      <td>OWC0100</td>\n",
       "      <td>47.49</td>\n",
       "      <td>2017-01-01 01:46:16</td>\n",
       "      <td>47.49</td>\n",
       "    </tr>\n",
       "    <tr>\n",
       "      <th>8</th>\n",
       "      <td>1119119</td>\n",
       "      <td>299546</td>\n",
       "      <td>0</td>\n",
       "      <td>1</td>\n",
       "      <td>IOT0014</td>\n",
       "      <td>18.99</td>\n",
       "      <td>2017-01-01 01:50:34</td>\n",
       "      <td>18.99</td>\n",
       "    </tr>\n",
       "    <tr>\n",
       "      <th>9</th>\n",
       "      <td>1119120</td>\n",
       "      <td>295347</td>\n",
       "      <td>0</td>\n",
       "      <td>1</td>\n",
       "      <td>APP0700</td>\n",
       "      <td>72.19</td>\n",
       "      <td>2017-01-01 01:54:11</td>\n",
       "      <td>72.19</td>\n",
       "    </tr>\n",
       "    <tr>\n",
       "      <th>18</th>\n",
       "      <td>1119134</td>\n",
       "      <td>299556</td>\n",
       "      <td>0</td>\n",
       "      <td>1</td>\n",
       "      <td>CRU0039-A</td>\n",
       "      <td>60.90</td>\n",
       "      <td>2017-01-01 02:20:14</td>\n",
       "      <td>60.90</td>\n",
       "    </tr>\n",
       "    <tr>\n",
       "      <th>24</th>\n",
       "      <td>1119145</td>\n",
       "      <td>299561</td>\n",
       "      <td>0</td>\n",
       "      <td>1</td>\n",
       "      <td>PEB0015</td>\n",
       "      <td>142.49</td>\n",
       "      <td>2017-01-01 02:38:50</td>\n",
       "      <td>142.49</td>\n",
       "    </tr>\n",
       "  </tbody>\n",
       "</table>\n",
       "</div>"
      ],
      "text/plain": [
       "         id  id_order  product_id  product_quantity        sku  unit_price  \\\n",
       "7   1119116    299545           0                 1    OWC0100       47.49   \n",
       "8   1119119    299546           0                 1    IOT0014       18.99   \n",
       "9   1119120    295347           0                 1    APP0700       72.19   \n",
       "18  1119134    299556           0                 1  CRU0039-A       60.90   \n",
       "24  1119145    299561           0                 1    PEB0015      142.49   \n",
       "\n",
       "                  date  unit_price_total  \n",
       "7  2017-01-01 01:46:16             47.49  \n",
       "8  2017-01-01 01:50:34             18.99  \n",
       "9  2017-01-01 01:54:11             72.19  \n",
       "18 2017-01-01 02:20:14             60.90  \n",
       "24 2017-01-01 02:38:50            142.49  "
      ]
     },
     "execution_count": 45,
     "metadata": {},
     "output_type": "execute_result"
    }
   ],
   "source": [
    "orderlines.head()"
   ]
  },
  {
   "cell_type": "markdown",
   "metadata": {
    "id": "jnFXiMG9oK6c"
   },
   "source": [
    "### Step 2: Group by id_order"
   ]
  },
  {
   "cell_type": "code",
   "execution_count": 46,
   "metadata": {
    "colab": {
     "base_uri": "https://localhost:8080/",
     "height": 238
    },
    "id": "Fl7_Uo1UoJaE",
    "outputId": "efc57e2d-1ad5-47c3-c2c9-6833fad46a27"
   },
   "outputs": [
    {
     "data": {
      "text/html": [
       "<div>\n",
       "<style scoped>\n",
       "    .dataframe tbody tr th:only-of-type {\n",
       "        vertical-align: middle;\n",
       "    }\n",
       "\n",
       "    .dataframe tbody tr th {\n",
       "        vertical-align: top;\n",
       "    }\n",
       "\n",
       "    .dataframe thead th {\n",
       "        text-align: right;\n",
       "    }\n",
       "</style>\n",
       "<table border=\"1\" class=\"dataframe\">\n",
       "  <thead>\n",
       "    <tr style=\"text-align: right;\">\n",
       "      <th></th>\n",
       "      <th>unit_price_total</th>\n",
       "    </tr>\n",
       "    <tr>\n",
       "      <th>id_order</th>\n",
       "      <th></th>\n",
       "    </tr>\n",
       "  </thead>\n",
       "  <tbody>\n",
       "    <tr>\n",
       "      <th>241423</th>\n",
       "      <td>129.16</td>\n",
       "    </tr>\n",
       "    <tr>\n",
       "      <th>242832</th>\n",
       "      <td>10.77</td>\n",
       "    </tr>\n",
       "    <tr>\n",
       "      <th>243330</th>\n",
       "      <td>77.99</td>\n",
       "    </tr>\n",
       "    <tr>\n",
       "      <th>245275</th>\n",
       "      <td>149.00</td>\n",
       "    </tr>\n",
       "    <tr>\n",
       "      <th>245595</th>\n",
       "      <td>105.98</td>\n",
       "    </tr>\n",
       "  </tbody>\n",
       "</table>\n",
       "</div>"
      ],
      "text/plain": [
       "          unit_price_total\n",
       "id_order                  \n",
       "241423              129.16\n",
       "242832               10.77\n",
       "243330               77.99\n",
       "245275              149.00\n",
       "245595              105.98"
      ]
     },
     "execution_count": 46,
     "metadata": {},
     "output_type": "execute_result"
    }
   ],
   "source": [
    "grouped_orderlines = orderlines.groupby('id_order')[['unit_price_total']].sum()\n",
    "grouped_orderlines.head()"
   ]
  },
  {
   "cell_type": "markdown",
   "metadata": {
    "id": "9rTpPXSfoZUp"
   },
   "source": [
    "### Step 3: Merge with orders and calculate price diff"
   ]
  },
  {
   "cell_type": "code",
   "execution_count": 47,
   "metadata": {
    "id": "dwo58VskoeB-"
   },
   "outputs": [],
   "source": [
    "orders = orders.merge(grouped_orderlines,\n",
    "                      how='left',\n",
    "                      left_on='order_id', right_on='id_order')"
   ]
  },
  {
   "cell_type": "code",
   "execution_count": 48,
   "metadata": {
    "colab": {
     "base_uri": "https://localhost:8080/"
    },
    "id": "c7BCkmGupndj",
    "outputId": "32edfead-a2db-4508-e2a3-90bf76d5b198"
   },
   "outputs": [
    {
     "name": "stdout",
     "output_type": "stream",
     "text": [
      "<class 'pandas.core.frame.DataFrame'>\n",
      "Index: 54324 entries, 7 to 293661\n",
      "Data columns (total 8 columns):\n",
      " #   Column            Non-Null Count  Dtype         \n",
      "---  ------            --------------  -----         \n",
      " 0   id                54324 non-null  int64         \n",
      " 1   id_order          54324 non-null  int64         \n",
      " 2   product_id        54324 non-null  int64         \n",
      " 3   product_quantity  54324 non-null  int64         \n",
      " 4   sku               54324 non-null  object        \n",
      " 5   unit_price        54324 non-null  float64       \n",
      " 6   date              54324 non-null  datetime64[ns]\n",
      " 7   unit_price_total  54324 non-null  float64       \n",
      "dtypes: datetime64[ns](1), float64(2), int64(4), object(1)\n",
      "memory usage: 3.7+ MB\n"
     ]
    }
   ],
   "source": [
    "orderlines.info()"
   ]
  },
  {
   "cell_type": "code",
   "execution_count": 49,
   "metadata": {
    "id": "EIVTHMLbpQ9q"
   },
   "outputs": [],
   "source": [
    "orders['price_diff'] = (orders['total_paid']\n",
    "                        - orders['unit_price_total']\n",
    "                        ).round(2)"
   ]
  },
  {
   "cell_type": "code",
   "execution_count": 50,
   "metadata": {
    "colab": {
     "base_uri": "https://localhost:8080/"
    },
    "id": "FfXpTW6apf-k",
    "outputId": "e7143e31-2e96-42cf-c829-c40c2ef391df"
   },
   "outputs": [
    {
     "data": {
      "text/plain": [
       "count    41701.000000\n",
       "mean         4.474808\n",
       "std         26.046478\n",
       "min       -165.000000\n",
       "25%          0.000000\n",
       "50%          4.990000\n",
       "75%          6.990000\n",
       "max       3984.990000\n",
       "Name: price_diff, dtype: float64"
      ]
     },
     "execution_count": 50,
     "metadata": {},
     "output_type": "execute_result"
    }
   ],
   "source": [
    "orders.price_diff.describe()"
   ]
  },
  {
   "cell_type": "markdown",
   "metadata": {
    "id": "EbkAA6ggqw-d"
   },
   "source": [
    "The price diff contains few extremely low and high values. These can be considered as outliers and excluded from further analysis.\n",
    "A value is considered an outlier if it is\n",
    "+ lower than the 25% quartile - (1.5 x interquartile range)\n",
    "+ higher than the 75% quartile + (1.5 x interquartile range)"
   ]
  },
  {
   "cell_type": "code",
   "execution_count": 51,
   "metadata": {
    "id": "cjzQVM-jqkhj"
   },
   "outputs": [],
   "source": [
    "# calculate the quartiles\n",
    "Q1 = orders.price_diff.quantile(0.25)\n",
    "Q3 = orders.price_diff.quantile(0.75)\n",
    "\n",
    "# calculate the interquartile range\n",
    "IQR = Q3-Q1\n",
    "\n",
    "# filter the DataFrame to include only \"non-outliers\"\n",
    "orders_no_outliers = orders.loc[(orders.price_diff >= (Q1 - 1.5*IQR))\n",
    "                                & (orders.price_diff <= (Q3 + 1.5*IQR))]"
   ]
  },
  {
   "cell_type": "code",
   "execution_count": 52,
   "metadata": {
    "colab": {
     "base_uri": "https://localhost:8080/"
    },
    "id": "E61pEI0bsBst",
    "outputId": "9c33c800-a7bd-4c07-f3e0-ac2622d89930"
   },
   "outputs": [
    {
     "name": "stdout",
     "output_type": "stream",
     "text": [
      "-10.485 17.475\n"
     ]
    }
   ],
   "source": [
    "print(Q1 - 1.5*IQR, Q3 + 1.5*IQR)"
   ]
  },
  {
   "cell_type": "code",
   "execution_count": 53,
   "metadata": {
    "colab": {
     "base_uri": "https://localhost:8080/",
     "height": 447
    },
    "id": "LHxTGplasUuD",
    "outputId": "7de7a01e-3fdb-4478-9138-0d729450804a"
   },
   "outputs": [
    {
     "data": {
      "text/plain": [
       "<Axes: >"
      ]
     },
     "execution_count": 53,
     "metadata": {},
     "output_type": "execute_result"
    },
    {
     "data": {
      "image/png": "[encoded data removed]",
      "text/plain": [
       "<Figure size 640x480 with 1 Axes>"
      ]
     },
     "metadata": {},
     "output_type": "display_data"
    }
   ],
   "source": [
    "orders_no_outliers.price_diff.hist(bins=50)"
   ]
  },
  {
   "cell_type": "code",
   "execution_count": 54,
   "metadata": {
    "colab": {
     "base_uri": "https://localhost:8080/"
    },
    "id": "VoFp6g0PsdLb",
    "outputId": "82e6a4d2-228f-4bad-99fe-95c13ce09077"
   },
   "outputs": [
    {
     "name": "stdout",
     "output_type": "stream",
     "text": [
      "<class 'pandas.core.frame.DataFrame'>\n",
      "Index: 40985 entries, 0 to 41700\n",
      "Data columns (total 6 columns):\n",
      " #   Column            Non-Null Count  Dtype         \n",
      "---  ------            --------------  -----         \n",
      " 0   order_id          40985 non-null  int64         \n",
      " 1   created_date      40985 non-null  datetime64[ns]\n",
      " 2   total_paid        40985 non-null  float64       \n",
      " 3   state             40985 non-null  object        \n",
      " 4   unit_price_total  40985 non-null  float64       \n",
      " 5   price_diff        40985 non-null  float64       \n",
      "dtypes: datetime64[ns](1), float64(3), int64(1), object(1)\n",
      "memory usage: 2.2+ MB\n"
     ]
    }
   ],
   "source": [
    "orders_no_outliers.info()"
   ]
  },
  {
   "cell_type": "markdown",
   "metadata": {
    "id": "qeN6vR5Ssl3Y"
   },
   "source": [
    "The orders with outliers need to be removed from orderlines as well:"
   ]
  },
  {
   "cell_type": "code",
   "execution_count": 55,
   "metadata": {
    "id": "cwflY4bftEsv"
   },
   "outputs": [],
   "source": [
    "orderlines_no_outliers = orderlines.loc[orderlines.id_order\n",
    "                                        .isin(orders_no_outliers.order_id)]"
   ]
  },
  {
   "cell_type": "code",
   "execution_count": 56,
   "metadata": {
    "colab": {
     "base_uri": "https://localhost:8080/"
    },
    "id": "R7UeNE1Dt0Dc",
    "outputId": "4bf6c5cb-ae43-4236-ce50-2492806af604"
   },
   "outputs": [
    {
     "data": {
      "text/plain": [
       "(40985, 40985)"
      ]
     },
     "execution_count": 56,
     "metadata": {},
     "output_type": "execute_result"
    }
   ],
   "source": [
    "# consistency check\n",
    "len(orders_no_outliers[\"order_id\"].unique()), len(orderlines_no_outliers[\"id_order\"].unique())"
   ]
  },
  {
   "cell_type": "code",
   "execution_count": 57,
   "metadata": {
    "colab": {
     "base_uri": "https://localhost:8080/"
    },
    "id": "x-nKYyjNtpt_",
    "outputId": "151f40ec-d6d3-4682-9631-553aab30b373"
   },
   "outputs": [
    {
     "name": "stdout",
     "output_type": "stream",
     "text": [
      "<class 'pandas.core.frame.DataFrame'>\n",
      "Index: 53231 entries, 7 to 293661\n",
      "Data columns (total 8 columns):\n",
      " #   Column            Non-Null Count  Dtype         \n",
      "---  ------            --------------  -----         \n",
      " 0   id                53231 non-null  int64         \n",
      " 1   id_order          53231 non-null  int64         \n",
      " 2   product_id        53231 non-null  int64         \n",
      " 3   product_quantity  53231 non-null  int64         \n",
      " 4   sku               53231 non-null  object        \n",
      " 5   unit_price        53231 non-null  float64       \n",
      " 6   date              53231 non-null  datetime64[ns]\n",
      " 7   unit_price_total  53231 non-null  float64       \n",
      "dtypes: datetime64[ns](1), float64(2), int64(4), object(1)\n",
      "memory usage: 3.7+ MB\n"
     ]
    }
   ],
   "source": [
    "orderlines_no_outliers.info()"
   ]
  },
  {
   "cell_type": "markdown",
   "metadata": {
    "id": "gjnKd-UuuaJ5"
   },
   "source": [
    "Save the cleaned files:"
   ]
  },
  {
   "cell_type": "code",
   "execution_count": 58,
   "metadata": {
    "colab": {
     "base_uri": "https://localhost:8080/",
     "height": 17
    },
    "id": "y5b7hgGRts6e",
    "outputId": "82cbf1de-e722-434c-d11a-29d1c71a087b"
   },
   "outputs": [],
   "source": [
    "orders_no_outliers.to_csv(\"./data_cleaned/orders_qu.csv\", index=False)\n",
    "orderlines_no_outliers.to_csv(\"./data_cleaned/orderlines_qu.csv\", index=False)\n",
    "products.to_csv('./data_cleaned/products_qu.csv', index=False)\n",
    "brands.to_csv('./data_cleaned/brands_qu.csv', index=False)"
   ]
  },
  {
   "cell_type": "code",
   "execution_count": null,
   "metadata": {
    "id": "_kkLIBP1u210"
   },
   "outputs": [],
   "source": []
  }
 ],
 "metadata": {
  "colab": {
   "provenance": [],
   "toc_visible": true
  },
  "kernelspec": {
   "display_name": "Python 3 (ipykernel)",
   "language": "python",
   "name": "python3"
  },
  "language_info": {
   "codemirror_mode": {
    "name": "ipython",
    "version": 3
   },
   "file_extension": ".py",
   "mimetype": "text/x-python",
   "name": "python",
   "nbconvert_exporter": "python",
   "pygments_lexer": "ipython3",
   "version": "3.11.5"
  }
 },
 "nbformat": 4,
 "nbformat_minor": 4
}
